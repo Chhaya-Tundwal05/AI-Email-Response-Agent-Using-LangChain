{
 "cells": [
  {
   "cell_type": "code",
   "execution_count": 6,
   "id": "33ca6c5f-9ef2-424d-bf72-03ef8fbc4248",
   "metadata": {},
   "outputs": [
    {
     "name": "stdout",
     "output_type": "stream",
     "text": [
      "Defaulting to user installation because normal site-packages is not writeable\n",
      "Requirement already satisfied: langchain in c:\\users\\nandi\\appdata\\roaming\\python\\python312\\site-packages (0.3.21)\n",
      "Requirement already satisfied: openai in c:\\users\\nandi\\appdata\\roaming\\python\\python312\\site-packages (1.68.2)\n",
      "Requirement already satisfied: psycopg2-binary in c:\\users\\nandi\\appdata\\roaming\\python\\python312\\site-packages (2.9.10)\n",
      "Requirement already satisfied: sqlalchemy in c:\\programdata\\anaconda3\\lib\\site-packages (2.0.30)\n",
      "Requirement already satisfied: langchain-core<1.0.0,>=0.3.45 in c:\\users\\nandi\\appdata\\roaming\\python\\python312\\site-packages (from langchain) (0.3.48)\n",
      "Requirement already satisfied: langchain-text-splitters<1.0.0,>=0.3.7 in c:\\users\\nandi\\appdata\\roaming\\python\\python312\\site-packages (from langchain) (0.3.7)\n",
      "Requirement already satisfied: langsmith<0.4,>=0.1.17 in c:\\users\\nandi\\appdata\\roaming\\python\\python312\\site-packages (from langchain) (0.3.19)\n",
      "Requirement already satisfied: pydantic<3.0.0,>=2.7.4 in c:\\users\\nandi\\appdata\\roaming\\python\\python312\\site-packages (from langchain) (2.10.6)\n",
      "Requirement already satisfied: requests<3,>=2 in c:\\programdata\\anaconda3\\lib\\site-packages (from langchain) (2.32.2)\n",
      "Requirement already satisfied: PyYAML>=5.3 in c:\\programdata\\anaconda3\\lib\\site-packages (from langchain) (6.0.1)\n",
      "Requirement already satisfied: anyio<5,>=3.5.0 in c:\\programdata\\anaconda3\\lib\\site-packages (from openai) (4.2.0)\n",
      "Requirement already satisfied: distro<2,>=1.7.0 in c:\\programdata\\anaconda3\\lib\\site-packages (from openai) (1.9.0)\n",
      "Requirement already satisfied: httpx<1,>=0.23.0 in c:\\users\\nandi\\appdata\\roaming\\python\\python312\\site-packages (from openai) (0.28.1)\n",
      "Requirement already satisfied: jiter<1,>=0.4.0 in c:\\users\\nandi\\appdata\\roaming\\python\\python312\\site-packages (from openai) (0.9.0)\n",
      "Requirement already satisfied: sniffio in c:\\programdata\\anaconda3\\lib\\site-packages (from openai) (1.3.0)\n",
      "Requirement already satisfied: tqdm>4 in c:\\programdata\\anaconda3\\lib\\site-packages (from openai) (4.66.4)\n",
      "Requirement already satisfied: typing-extensions<5,>=4.11 in c:\\users\\nandi\\appdata\\roaming\\python\\python312\\site-packages (from openai) (4.13.0)\n",
      "Requirement already satisfied: greenlet!=0.4.17 in c:\\programdata\\anaconda3\\lib\\site-packages (from sqlalchemy) (3.0.1)\n",
      "Requirement already satisfied: idna>=2.8 in c:\\programdata\\anaconda3\\lib\\site-packages (from anyio<5,>=3.5.0->openai) (3.7)\n",
      "Requirement already satisfied: certifi in c:\\programdata\\anaconda3\\lib\\site-packages (from httpx<1,>=0.23.0->openai) (2024.8.30)\n",
      "Requirement already satisfied: httpcore==1.* in c:\\users\\nandi\\appdata\\roaming\\python\\python312\\site-packages (from httpx<1,>=0.23.0->openai) (1.0.7)\n",
      "Requirement already satisfied: h11<0.15,>=0.13 in c:\\users\\nandi\\appdata\\roaming\\python\\python312\\site-packages (from httpcore==1.*->httpx<1,>=0.23.0->openai) (0.14.0)\n",
      "Requirement already satisfied: tenacity!=8.4.0,<10.0.0,>=8.1.0 in c:\\programdata\\anaconda3\\lib\\site-packages (from langchain-core<1.0.0,>=0.3.45->langchain) (8.2.2)\n",
      "Requirement already satisfied: jsonpatch<2.0,>=1.33 in c:\\programdata\\anaconda3\\lib\\site-packages (from langchain-core<1.0.0,>=0.3.45->langchain) (1.33)\n",
      "Requirement already satisfied: packaging<25,>=23.2 in c:\\programdata\\anaconda3\\lib\\site-packages (from langchain-core<1.0.0,>=0.3.45->langchain) (23.2)\n",
      "Requirement already satisfied: orjson<4.0.0,>=3.9.14 in c:\\users\\nandi\\appdata\\roaming\\python\\python312\\site-packages (from langsmith<0.4,>=0.1.17->langchain) (3.10.16)\n",
      "Requirement already satisfied: requests-toolbelt<2.0.0,>=1.0.0 in c:\\programdata\\anaconda3\\lib\\site-packages (from langsmith<0.4,>=0.1.17->langchain) (1.0.0)\n",
      "Requirement already satisfied: zstandard<0.24.0,>=0.23.0 in c:\\users\\nandi\\appdata\\roaming\\python\\python312\\site-packages (from langsmith<0.4,>=0.1.17->langchain) (0.23.0)\n",
      "Requirement already satisfied: annotated-types>=0.6.0 in c:\\programdata\\anaconda3\\lib\\site-packages (from pydantic<3.0.0,>=2.7.4->langchain) (0.6.0)\n",
      "Requirement already satisfied: pydantic-core==2.27.2 in c:\\users\\nandi\\appdata\\roaming\\python\\python312\\site-packages (from pydantic<3.0.0,>=2.7.4->langchain) (2.27.2)\n",
      "Requirement already satisfied: charset-normalizer<4,>=2 in c:\\programdata\\anaconda3\\lib\\site-packages (from requests<3,>=2->langchain) (2.0.4)\n",
      "Requirement already satisfied: urllib3<3,>=1.21.1 in c:\\programdata\\anaconda3\\lib\\site-packages (from requests<3,>=2->langchain) (2.2.2)\n",
      "Requirement already satisfied: colorama in c:\\programdata\\anaconda3\\lib\\site-packages (from tqdm>4->openai) (0.4.6)\n",
      "Requirement already satisfied: jsonpointer>=1.9 in c:\\programdata\\anaconda3\\lib\\site-packages (from jsonpatch<2.0,>=1.33->langchain-core<1.0.0,>=0.3.45->langchain) (2.1)\n"
     ]
    }
   ],
   "source": [
    "# Install these once (uncomment if needed)\n",
    "!pip install langchain openai psycopg2-binary sqlalchemy\n",
    "\n",
    "import os\n",
    "from sqlalchemy import create_engine, text\n",
    "from langchain.chat_models import ChatOpenAI\n",
    "from langchain.prompts import PromptTemplate\n",
    "from langchain.chains import LLMChain"
   ]
  },
  {
   "cell_type": "code",
   "execution_count": 2,
   "id": "ec17e6fb-97ca-46ad-80c5-cf46c8741b48",
   "metadata": {},
   "outputs": [],
   "source": [
    "!pip install langchain openai langchain-community --quiet"
   ]
  },
  {
   "cell_type": "code",
   "execution_count": 27,
   "id": "4dd95fb3-8ae4-47a9-983b-b94e4012db72",
   "metadata": {},
   "outputs": [],
   "source": [
    "import os\n",
    "from sqlalchemy import create_engine, text\n",
    "from langchain.chat_models import ChatOpenAI\n",
    "from langchain.prompts import PromptTemplate\n",
    "from langchain.chains import LLMChain"
   ]
  },
  {
   "cell_type": "code",
   "execution_count": 28,
   "id": "6bf0582a-5776-476d-b110-0d14811facba",
   "metadata": {},
   "outputs": [
    {
     "name": "stdout",
     "output_type": "stream",
     "text": [
      "Defaulting to user installation because normal site-packages is not writeable\n",
      "Requirement already satisfied: psycopg2-binary in c:\\users\\nandi\\appdata\\roaming\\python\\python312\\site-packages (2.9.10)\n",
      "Requirement already satisfied: pandas in c:\\programdata\\anaconda3\\lib\\site-packages (2.2.2)\n",
      "Requirement already satisfied: numpy>=1.26.0 in c:\\programdata\\anaconda3\\lib\\site-packages (from pandas) (1.26.4)\n",
      "Requirement already satisfied: python-dateutil>=2.8.2 in c:\\programdata\\anaconda3\\lib\\site-packages (from pandas) (2.9.0.post0)\n",
      "Requirement already satisfied: pytz>=2020.1 in c:\\programdata\\anaconda3\\lib\\site-packages (from pandas) (2024.1)\n",
      "Requirement already satisfied: tzdata>=2022.7 in c:\\programdata\\anaconda3\\lib\\site-packages (from pandas) (2023.3)\n",
      "Requirement already satisfied: six>=1.5 in c:\\programdata\\anaconda3\\lib\\site-packages (from python-dateutil>=2.8.2->pandas) (1.16.0)\n",
      "Defaulting to user installation because normal site-packages is not writeable\n",
      "Requirement already satisfied: pg8000 in c:\\users\\nandi\\appdata\\roaming\\python\\python312\\site-packages (1.31.2)\n",
      "Requirement already satisfied: cloud-sql-python-connector in c:\\users\\nandi\\appdata\\roaming\\python\\python312\\site-packages (1.18.0)\n",
      "Requirement already satisfied: python-dateutil>=2.8.2 in c:\\programdata\\anaconda3\\lib\\site-packages (from pg8000) (2.9.0.post0)\n",
      "Requirement already satisfied: scramp>=1.4.5 in c:\\users\\nandi\\appdata\\roaming\\python\\python312\\site-packages (from pg8000) (1.4.5)\n",
      "Requirement already satisfied: aiofiles in c:\\users\\nandi\\appdata\\roaming\\python\\python312\\site-packages (from cloud-sql-python-connector) (24.1.0)\n",
      "Requirement already satisfied: aiohttp in c:\\programdata\\anaconda3\\lib\\site-packages (from cloud-sql-python-connector) (3.9.5)\n",
      "Requirement already satisfied: cryptography>=42.0.0 in c:\\programdata\\anaconda3\\lib\\site-packages (from cloud-sql-python-connector) (42.0.5)\n",
      "Requirement already satisfied: dnspython>=2.0.0 in c:\\users\\nandi\\appdata\\roaming\\python\\python312\\site-packages (from cloud-sql-python-connector) (2.7.0)\n",
      "Requirement already satisfied: Requests in c:\\programdata\\anaconda3\\lib\\site-packages (from cloud-sql-python-connector) (2.32.2)\n",
      "Requirement already satisfied: google-auth>=2.28.0 in c:\\users\\nandi\\appdata\\roaming\\python\\python312\\site-packages (from cloud-sql-python-connector) (2.38.0)\n",
      "Requirement already satisfied: cffi>=1.12 in c:\\programdata\\anaconda3\\lib\\site-packages (from cryptography>=42.0.0->cloud-sql-python-connector) (1.16.0)\n",
      "Requirement already satisfied: cachetools<6.0,>=2.0.0 in c:\\programdata\\anaconda3\\lib\\site-packages (from google-auth>=2.28.0->cloud-sql-python-connector) (5.3.3)\n",
      "Requirement already satisfied: pyasn1-modules>=0.2.1 in c:\\programdata\\anaconda3\\lib\\site-packages (from google-auth>=2.28.0->cloud-sql-python-connector) (0.2.8)\n",
      "Requirement already satisfied: rsa<5,>=3.1.4 in c:\\users\\nandi\\appdata\\roaming\\python\\python312\\site-packages (from google-auth>=2.28.0->cloud-sql-python-connector) (4.9)\n",
      "Requirement already satisfied: six>=1.5 in c:\\programdata\\anaconda3\\lib\\site-packages (from python-dateutil>=2.8.2->pg8000) (1.16.0)\n",
      "Requirement already satisfied: asn1crypto>=1.5.1 in c:\\users\\nandi\\appdata\\roaming\\python\\python312\\site-packages (from scramp>=1.4.5->pg8000) (1.5.1)\n",
      "Requirement already satisfied: aiosignal>=1.1.2 in c:\\programdata\\anaconda3\\lib\\site-packages (from aiohttp->cloud-sql-python-connector) (1.2.0)\n",
      "Requirement already satisfied: attrs>=17.3.0 in c:\\programdata\\anaconda3\\lib\\site-packages (from aiohttp->cloud-sql-python-connector) (23.1.0)\n",
      "Requirement already satisfied: frozenlist>=1.1.1 in c:\\programdata\\anaconda3\\lib\\site-packages (from aiohttp->cloud-sql-python-connector) (1.4.0)\n",
      "Requirement already satisfied: multidict<7.0,>=4.5 in c:\\programdata\\anaconda3\\lib\\site-packages (from aiohttp->cloud-sql-python-connector) (6.0.4)\n",
      "Requirement already satisfied: yarl<2.0,>=1.0 in c:\\programdata\\anaconda3\\lib\\site-packages (from aiohttp->cloud-sql-python-connector) (1.9.3)\n",
      "Requirement already satisfied: charset-normalizer<4,>=2 in c:\\programdata\\anaconda3\\lib\\site-packages (from Requests->cloud-sql-python-connector) (2.0.4)\n",
      "Requirement already satisfied: idna<4,>=2.5 in c:\\programdata\\anaconda3\\lib\\site-packages (from Requests->cloud-sql-python-connector) (3.7)\n",
      "Requirement already satisfied: urllib3<3,>=1.21.1 in c:\\programdata\\anaconda3\\lib\\site-packages (from Requests->cloud-sql-python-connector) (2.2.2)\n",
      "Requirement already satisfied: certifi>=2017.4.17 in c:\\programdata\\anaconda3\\lib\\site-packages (from Requests->cloud-sql-python-connector) (2024.8.30)\n",
      "Requirement already satisfied: pycparser in c:\\programdata\\anaconda3\\lib\\site-packages (from cffi>=1.12->cryptography>=42.0.0->cloud-sql-python-connector) (2.21)\n",
      "Requirement already satisfied: pyasn1<0.5.0,>=0.4.6 in c:\\programdata\\anaconda3\\lib\\site-packages (from pyasn1-modules>=0.2.1->google-auth>=2.28.0->cloud-sql-python-connector) (0.4.8)\n"
     ]
    }
   ],
   "source": [
    "# 📌 Step 1: Install Dependencies\n",
    "!pip install psycopg2-binary pandas\n",
    "!pip install pg8000 cloud-sql-python-connector"
   ]
  },
  {
   "cell_type": "code",
   "execution_count": 29,
   "id": "395b4bab-2aec-48d2-9344-004be98c154f",
   "metadata": {},
   "outputs": [],
   "source": [
    "# 📌 Step 2: Import Libraries\n",
    "import psycopg2\n",
    "import pandas as pd\n",
    "import os"
   ]
  },
  {
   "cell_type": "code",
   "execution_count": 30,
   "id": "db02df23-a4b0-4d57-96bc-eca3093416a9",
   "metadata": {},
   "outputs": [
    {
     "name": "stdout",
     "output_type": "stream",
     "text": [
      "✅ Connected to PostgreSQL Cloud SQL\n"
     ]
    }
   ],
   "source": [
    "# 📌 Step 3: Set Up Database Connection (Replace with Your Details)\n",
    "DATABASE_URL = \"dbname='postgres' user='postgres' host='34.59.119.208' password='avantichhaya'\"\n",
    "\n",
    "def connect_db():\n",
    "    try:\n",
    "        conn = psycopg2.connect(DATABASE_URL)\n",
    "        print(\"✅ Connected to PostgreSQL Cloud SQL\")\n",
    "        return conn\n",
    "    except Exception as e:\n",
    "        print(\"🚨 Connection Error:\", e)\n",
    "        return None\n",
    "\n",
    "conn = connect_db()\n",
    "cursor = conn.cursor()"
   ]
  },
  {
   "cell_type": "code",
   "execution_count": 18,
   "id": "4f121d29-519a-4a41-b088-5b24e33edbb0",
   "metadata": {},
   "outputs": [
    {
     "name": "stdout",
     "output_type": "stream",
     "text": [
      "🔄 Connection rollback complete. You're good to go.\n"
     ]
    }
   ],
   "source": [
    "# Reset the connection to recover from the failed transaction\n",
    "conn.rollback()\n",
    "print(\"🔄 Connection rollback complete. You're good to go.\")\n"
   ]
  },
  {
   "cell_type": "code",
   "execution_count": null,
   "id": "38216514-1cc9-485b-bd7a-a25780afc64f",
   "metadata": {},
   "outputs": [],
   "source": []
  },
  {
   "cell_type": "code",
   "execution_count": 7,
   "id": "8526352f-94a6-41a1-b1bd-8631e4e1d006",
   "metadata": {},
   "outputs": [
    {
     "name": "stdout",
     "output_type": "stream",
     "text": [
      "📩 Subject: help needed\n",
      "📝 Body: how does this work? Help me\n"
     ]
    }
   ],
   "source": [
    "def fetch_unclassified_email():\n",
    "    query = \"\"\"\n",
    "        SELECT email_id, subject, body\n",
    "        FROM emails\n",
    "        WHERE classified_category IS NULL\n",
    "        LIMIT 1\n",
    "    \"\"\"\n",
    "    cursor.execute(query)\n",
    "    row = cursor.fetchone()\n",
    "    return row\n",
    "\n",
    "email = fetch_unclassified_email()\n",
    "\n",
    "if email:\n",
    "    email_id, subject, body = email\n",
    "    print(\"📩 Subject:\", subject)\n",
    "    print(\"📝 Body:\", body[:300])\n",
    "else:\n",
    "    print(\"✅ No unclassified emails found.\")"
   ]
  },
  {
   "cell_type": "code",
   "execution_count": 8,
   "id": "007fb314-e33f-4db7-92dc-1287371dc11d",
   "metadata": {},
   "outputs": [
    {
     "name": "stdout",
     "output_type": "stream",
     "text": [
      "✅ Test email inserted.\n"
     ]
    }
   ],
   "source": [
    "insert_query = \"\"\"\n",
    "    INSERT INTO emails (sender_email, subject, body)\n",
    "    VALUES (%s, %s, %s)\n",
    "\"\"\"\n",
    "test_email = (\n",
    "    \"test.user@example.com\",\n",
    "    \"Request for leave approval\",\n",
    "    \"Hi HR, I’d like to apply for a leave from March 29th to April 2nd. Please let me know the procedure.\"\n",
    ")\n",
    "\n",
    "cursor.execute(insert_query, test_email)\n",
    "conn.commit()\n",
    "print(\"✅ Test email inserted.\")"
   ]
  },
  {
   "cell_type": "code",
   "execution_count": 16,
   "id": "cc1cabda-8b83-4926-b9a9-7d5ed125e556",
   "metadata": {},
   "outputs": [
    {
     "name": "stdout",
     "output_type": "stream",
     "text": [
      "📩 Subject: Leave Request\n",
      "📝 Body: I need leave for 2 days.\n"
     ]
    }
   ],
   "source": [
    "def fetch_unclassified_email():\n",
    "    query = \"\"\"\n",
    "        SELECT email_id, subject, body\n",
    "        FROM emails\n",
    "        WHERE classified_category IS NULL\n",
    "        LIMIT 1\n",
    "    \"\"\"\n",
    "    cursor.execute(query)\n",
    "    row = cursor.fetchone()\n",
    "    return row\n",
    "\n",
    "email = fetch_unclassified_email()\n",
    "\n",
    "if email:\n",
    "    email_id, subject, body = email\n",
    "    print(\"📩 Subject:\", subject)\n",
    "    print(\"📝 Body:\", body[:300])\n",
    "else:\n",
    "    print(\"✅ No unclassified emails found.\")"
   ]
  },
  {
   "cell_type": "code",
   "execution_count": 4,
   "id": "e9e35872-09e6-4c02-9b39-0819e25a4224",
   "metadata": {},
   "outputs": [],
   "source": [
    "!pip install transformers --quiet"
   ]
  },
  {
   "cell_type": "code",
   "execution_count": 5,
   "id": "dab2c6b6-3d9e-4d2d-9086-e315d36b88f2",
   "metadata": {},
   "outputs": [],
   "source": [
    "!pip install torch --quiet"
   ]
  },
  {
   "cell_type": "code",
   "execution_count": 15,
   "id": "871f0bee-1562-4d33-87cf-b58439df5925",
   "metadata": {},
   "outputs": [
    {
     "name": "stderr",
     "output_type": "stream",
     "text": [
      "Device set to use cpu\n"
     ]
    }
   ],
   "source": [
    "from transformers import pipeline\n",
    "classifier = pipeline(\"zero-shot-classification\", model=\"facebook/bart-large-mnli\")"
   ]
  },
  {
   "cell_type": "code",
   "execution_count": 11,
   "id": "6636f7ec-e7a5-4776-8526-c69da133f21d",
   "metadata": {},
   "outputs": [
    {
     "name": "stdout",
     "output_type": "stream",
     "text": [
      "🧠 Predicted Category: Onboarding\n",
      "📈 Confidence Score: 0.44\n"
     ]
    }
   ],
   "source": [
    "email_text = f\"{subject}\\n\\n{body}\"\n",
    "categories = [\"Leave Request\", \"Job Offer\", \"Onboarding\", \"Benefits Inquiry\", \"General HR Query\"]\n",
    "\n",
    "result = classifier(email_text, categories)\n",
    "\n",
    "predicted_label = result[\"labels\"][0]\n",
    "confidence = result[\"scores\"][0]\n",
    "\n",
    "print(\"🧠 Predicted Category:\", predicted_label)\n",
    "print(\"📈 Confidence Score:\", round(confidence, 2))"
   ]
  },
  {
   "cell_type": "code",
   "execution_count": 26,
   "id": "cac27fd8-dd4d-41cc-9d5e-6528c3d36e90",
   "metadata": {},
   "outputs": [
    {
     "name": "stdout",
     "output_type": "stream",
     "text": [
      "✅ Email 8 updated as 'Leave Request'\n"
     ]
    }
   ],
   "source": [
    "cursor.execute(\"\"\"\n",
    "    UPDATE emails\n",
    "    SET classified_category = %s\n",
    "    WHERE email_id = %s\n",
    "\"\"\", (predicted_label, email_id))\n",
    "conn.commit()\n",
    "\n",
    "print(f\"✅ Email {email_id} updated as '{predicted_label}'\")"
   ]
  },
  {
   "cell_type": "code",
   "execution_count": 27,
   "id": "b5613a7d-304a-43d4-88ae-85b8ccf9e4f5",
   "metadata": {},
   "outputs": [
    {
     "name": "stdout",
     "output_type": "stream",
     "text": [
      "🔍 Found 3 emails needing classification.\n"
     ]
    }
   ],
   "source": [
    "def fetch_placeholder_emails(limit=5):\n",
    "    cursor.execute(\"\"\"\n",
    "        SELECT email_id, subject, body\n",
    "        FROM emails\n",
    "        WHERE classified_category = 'aa'\n",
    "        LIMIT %s\n",
    "    \"\"\", (limit,))\n",
    "    return cursor.fetchall()\n",
    "\n",
    "emails_to_classify = fetch_placeholder_emails()\n",
    "\n",
    "print(f\"🔍 Found {len(emails_to_classify)} emails needing classification.\")"
   ]
  },
  {
   "cell_type": "code",
   "execution_count": 28,
   "id": "c1df9c12-4cbc-4b34-94ab-07a7698f5610",
   "metadata": {},
   "outputs": [
    {
     "name": "stdout",
     "output_type": "stream",
     "text": [
      "📩 Email ID 4\n",
      "🧠 Predicted: Leave Request\n",
      "📈 Confidence: 0.87\n",
      "\n",
      "📩 Email ID 5\n",
      "🧠 Predicted: Onboarding\n",
      "📈 Confidence: 0.32\n",
      "\n",
      "📩 Email ID 6\n",
      "🧠 Predicted: Onboarding\n",
      "📈 Confidence: 0.64\n",
      "\n",
      "✅ All emails classified and updated.\n"
     ]
    }
   ],
   "source": [
    "for email_id, subject, body in emails_to_classify:\n",
    "    email_text = f\"{subject}\\n\\n{body}\"\n",
    "\n",
    "    result = classifier(email_text, categories)\n",
    "    predicted_label = result[\"labels\"][0]\n",
    "    confidence = result[\"scores\"][0]\n",
    "\n",
    "    print(f\"📩 Email ID {email_id}\")\n",
    "    print(f\"🧠 Predicted: {predicted_label}\")\n",
    "    print(f\"📈 Confidence: {round(confidence, 2)}\\n\")\n",
    "\n",
    "    # Update the classified category\n",
    "    cursor.execute(\"\"\"\n",
    "        UPDATE emails\n",
    "        SET classified_category = %s\n",
    "        WHERE email_id = %s\n",
    "    \"\"\", (predicted_label, email_id))\n",
    "\n",
    "conn.commit()\n",
    "print(\"✅ All emails classified and updated.\")"
   ]
  },
  {
   "cell_type": "markdown",
   "id": "9ddd143e-56ce-47b1-84b9-5ef39dd61929",
   "metadata": {},
   "source": [
    "**NEW MODEL**"
   ]
  },
  {
   "cell_type": "code",
   "execution_count": 6,
   "id": "188381be-12c8-4089-9f16-8b19ffe3c759",
   "metadata": {},
   "outputs": [
    {
     "name": "stderr",
     "output_type": "stream",
     "text": [
      "The `xla_device` argument has been deprecated in v4.4.0 of Transformers. It is ignored and you can safely remove it from your `config.json` file.\n",
      "The `xla_device` argument has been deprecated in v4.4.0 of Transformers. It is ignored and you can safely remove it from your `config.json` file.\n",
      "The `xla_device` argument has been deprecated in v4.4.0 of Transformers. It is ignored and you can safely remove it from your `config.json` file.\n",
      "The `xla_device` argument has been deprecated in v4.4.0 of Transformers. It is ignored and you can safely remove it from your `config.json` file.\n",
      "The `xla_device` argument has been deprecated in v4.4.0 of Transformers. It is ignored and you can safely remove it from your `config.json` file.\n",
      "Device set to use cpu\n"
     ]
    }
   ],
   "source": [
    "from transformers import pipeline\n",
    "\n",
    "classifier = pipeline(\n",
    "    \"zero-shot-classification\",\n",
    "    model=\"typeform/distilbert-base-uncased-mnli\"\n",
    ")"
   ]
  },
  {
   "cell_type": "code",
   "execution_count": 14,
   "id": "20f0eb53-8895-4c68-8fad-272fbe8fa224",
   "metadata": {},
   "outputs": [
    {
     "name": "stdout",
     "output_type": "stream",
     "text": [
      "✅ All classified categories reset to NULL.\n"
     ]
    }
   ],
   "source": [
    "cursor.execute(\"\"\"\n",
    "    UPDATE emails\n",
    "    SET classified_category = NULL\n",
    "\"\"\")\n",
    "conn.commit()\n",
    "\n",
    "print(\"✅ All classified categories reset to NULL.\")"
   ]
  },
  {
   "cell_type": "code",
   "execution_count": 18,
   "id": "6111741c-8453-4172-95cf-8aa4656839e4",
   "metadata": {},
   "outputs": [
    {
     "name": "stdout",
     "output_type": "stream",
     "text": [
      "📩 Email ID 1\n",
      "🧠 Predicted: Leave Request\n",
      "📈 Confidence: 0.99\n",
      "📩 Email ID 2\n",
      "🧠 Predicted: Technical Issue\n",
      "📈 Confidence: 0.95\n",
      "📩 Email ID 3\n",
      "🧠 Predicted: Leave Request\n",
      "📈 Confidence: 0.39\n",
      "📩 Email ID 7\n",
      "🧠 Predicted: Leave Request\n",
      "📈 Confidence: 0.93\n",
      "📩 Email ID 10\n",
      "🧠 Predicted: Help Request\n",
      "📈 Confidence: 0.52\n",
      "📩 Email ID 11\n",
      "🧠 Predicted: Leave Request\n",
      "📈 Confidence: 0.93\n",
      "📩 Email ID 8\n",
      "🧠 Predicted: Leave Request\n",
      "📈 Confidence: 0.93\n",
      "📩 Email ID 4\n",
      "🧠 Predicted: Leave Request\n",
      "📈 Confidence: 0.99\n",
      "📩 Email ID 5\n",
      "🧠 Predicted: Technical Issue\n",
      "📈 Confidence: 0.95\n",
      "📩 Email ID 6\n",
      "🧠 Predicted: Leave Request\n",
      "📈 Confidence: 0.39\n",
      "📩 Email ID 12\n",
      "🧠 Predicted: Leave Request\n",
      "📈 Confidence: 0.93\n",
      "✅ Reclassification complete.\n"
     ]
    }
   ],
   "source": [
    "categories = [\n",
    "    \"Leave Request\",\n",
    "    \"Payroll Inquiry\",\n",
    "    \"Onboarding\",\n",
    "    \"Technical Issue\",   # Optional, based on email content\n",
    "    \"Help Request\"\n",
    "]\n",
    "def fetch_unclassified_emails():\n",
    "    cursor.execute(\"\"\"\n",
    "        SELECT email_id, subject, body\n",
    "        FROM emails\n",
    "        WHERE classified_category IS NULL\n",
    "    \"\"\")\n",
    "    return cursor.fetchall()\n",
    "\n",
    "emails_to_classify = fetch_unclassified_emails()\n",
    "\n",
    "for email_id, subject, body in emails_to_classify:\n",
    "    email_text = f\"{subject}\\n\\n{body}\"\n",
    "    result = classifier(email_text, categories)\n",
    "    predicted_label = result[\"labels\"][0]\n",
    "    confidence = result[\"scores\"][0]\n",
    "\n",
    "    print(f\"📩 Email ID {email_id}\")\n",
    "    print(f\"🧠 Predicted: {predicted_label}\")\n",
    "    print(f\"📈 Confidence: {round(confidence, 2)}\")\n",
    "\n",
    "    cursor.execute(\"\"\"\n",
    "        UPDATE emails\n",
    "        SET classified_category = %s\n",
    "        WHERE email_id = %s\n",
    "    \"\"\", (predicted_label, email_id))\n",
    "\n",
    "conn.commit()\n",
    "print(\"✅ Reclassification complete.\")"
   ]
  },
  {
   "cell_type": "markdown",
   "id": "81d30034-9500-4aa5-971d-84d4a12b24ec",
   "metadata": {},
   "source": [
    "**Resetting the status to null**"
   ]
  },
  {
   "cell_type": "code",
   "execution_count": 20,
   "id": "504071d2-4f1d-4a13-86ea-053f90bb19d6",
   "metadata": {},
   "outputs": [
    {
     "name": "stdout",
     "output_type": "stream",
     "text": [
      "✅ All classified categories reset to NULL.\n"
     ]
    }
   ],
   "source": [
    "cursor.execute(\"\"\"\n",
    "    UPDATE emails\n",
    "    SET classified_category = NULL\n",
    "\"\"\")\n",
    "conn.commit()\n",
    "\n",
    "print(\"✅ All classified categories reset to NULL.\")"
   ]
  },
  {
   "cell_type": "markdown",
   "id": "bb633fbd-bfd6-407a-a1d6-9134b2ecd776",
   "metadata": {},
   "source": [
    "**Classfication with new Categories**"
   ]
  },
  {
   "cell_type": "code",
   "execution_count": 21,
   "id": "ca302b53-88e3-457e-8026-b77ddd93fab5",
   "metadata": {},
   "outputs": [
    {
     "name": "stderr",
     "output_type": "stream",
     "text": [
      "Device set to use cpu\n"
     ]
    }
   ],
   "source": [
    "from transformers import pipeline\n",
    "classifier = pipeline(\"zero-shot-classification\", model=\"facebook/bart-large-mnli\")"
   ]
  },
  {
   "cell_type": "code",
   "execution_count": 22,
   "id": "715f361e-d2c8-45d5-9389-18b62ff4b400",
   "metadata": {},
   "outputs": [],
   "source": [
    "categories = [\n",
    "    \"Leave Request\",\n",
    "    \"Onboarding\",\n",
    "    \"Job Offer\",\n",
    "    \"Salary or Payroll Inquiry\",\n",
    "    \"Benefits Inquiry\",\n",
    "    \"Resignation & Exit\",\n",
    "    \"Attendance & Timesheet\",\n",
    "    \"Recruitment Process\",\n",
    "    \"Policy Clarification\",\n",
    "    \"Training & Development\",\n",
    "    \"Work From Home Requests\",\n",
    "    \"Relocation & Transfer\",\n",
    "    \"Expense Reimbursement\",\n",
    "    \"IT & Access Issues\",\n",
    "    \"Events & Celebrations\"\n",
    "]"
   ]
  },
  {
   "cell_type": "code",
   "execution_count": 23,
   "id": "a505239b-8425-47d6-859c-18b058b27735",
   "metadata": {},
   "outputs": [
    {
     "name": "stdout",
     "output_type": "stream",
     "text": [
      "📩 Email ID 1\n",
      "🧠 Predicted: Leave Request\n",
      "📈 Confidence: 0.71\n",
      "📩 Email ID 2\n",
      "🧠 Predicted: IT & Access Issues\n",
      "📈 Confidence: 0.31\n",
      "📩 Email ID 3\n",
      "🧠 Predicted: Salary or Payroll Inquiry\n",
      "📈 Confidence: 0.32\n",
      "📩 Email ID 7\n",
      "🧠 Predicted: Leave Request\n",
      "📈 Confidence: 0.74\n",
      "📩 Email ID 10\n",
      "🧠 Predicted: Onboarding\n",
      "📈 Confidence: 0.26\n",
      "📩 Email ID 11\n",
      "🧠 Predicted: Leave Request\n",
      "📈 Confidence: 0.74\n",
      "📩 Email ID 8\n",
      "🧠 Predicted: Leave Request\n",
      "📈 Confidence: 0.74\n",
      "📩 Email ID 4\n",
      "🧠 Predicted: Leave Request\n",
      "📈 Confidence: 0.71\n",
      "📩 Email ID 5\n",
      "🧠 Predicted: IT & Access Issues\n",
      "📈 Confidence: 0.31\n",
      "📩 Email ID 6\n",
      "🧠 Predicted: Salary or Payroll Inquiry\n",
      "📈 Confidence: 0.32\n",
      "📩 Email ID 12\n",
      "🧠 Predicted: Leave Request\n",
      "📈 Confidence: 0.74\n",
      "✅ Reclassification complete with final 15 categories.\n"
     ]
    }
   ],
   "source": [
    "def fetch_unclassified_emails():\n",
    "    cursor.execute(\"\"\"\n",
    "        SELECT email_id, subject, body\n",
    "        FROM emails\n",
    "        WHERE classified_category IS NULL\n",
    "    \"\"\")\n",
    "    return cursor.fetchall()\n",
    "\n",
    "emails_to_classify = fetch_unclassified_emails()\n",
    "\n",
    "for email_id, subject, body in emails_to_classify:\n",
    "    email_text = f\"{subject}\\n\\n{body}\"\n",
    "    result = classifier(email_text, categories)\n",
    "    predicted_label = result[\"labels\"][0]\n",
    "    confidence = result[\"scores\"][0]\n",
    "\n",
    "    print(f\"📩 Email ID {email_id}\")\n",
    "    print(f\"🧠 Predicted: {predicted_label}\")\n",
    "    print(f\"📈 Confidence: {round(confidence, 2)}\")\n",
    "\n",
    "    # Update the classified category in DB\n",
    "    cursor.execute(\"\"\"\n",
    "        UPDATE emails\n",
    "        SET classified_category = %s\n",
    "        WHERE email_id = %s\n",
    "    \"\"\", (predicted_label, email_id))\n",
    "\n",
    "conn.commit()\n",
    "print(\"✅ Reclassification complete with final 15 categories.\")"
   ]
  },
  {
   "cell_type": "code",
   "execution_count": 24,
   "id": "821a5b06-fdad-403e-80a6-6db96191c338",
   "metadata": {},
   "outputs": [
    {
     "name": "stderr",
     "output_type": "stream",
     "text": [
      "The `xla_device` argument has been deprecated in v4.4.0 of Transformers. It is ignored and you can safely remove it from your `config.json` file.\n",
      "The `xla_device` argument has been deprecated in v4.4.0 of Transformers. It is ignored and you can safely remove it from your `config.json` file.\n",
      "The `xla_device` argument has been deprecated in v4.4.0 of Transformers. It is ignored and you can safely remove it from your `config.json` file.\n",
      "The `xla_device` argument has been deprecated in v4.4.0 of Transformers. It is ignored and you can safely remove it from your `config.json` file.\n",
      "The `xla_device` argument has been deprecated in v4.4.0 of Transformers. It is ignored and you can safely remove it from your `config.json` file.\n",
      "Device set to use cpu\n"
     ]
    }
   ],
   "source": [
    "from transformers import pipeline\n",
    "\n",
    "classifier = pipeline(\n",
    "    \"zero-shot-classification\",\n",
    "    model=\"typeform/distilbert-base-uncased-mnli\"\n",
    ")"
   ]
  },
  {
   "cell_type": "code",
   "execution_count": 39,
   "id": "1e6851dc-6154-424d-a0a1-9825e3f68d79",
   "metadata": {},
   "outputs": [
    {
     "name": "stdout",
     "output_type": "stream",
     "text": [
      "✅ All classified categories reset to NULL.\n"
     ]
    }
   ],
   "source": [
    "cursor.execute(\"\"\"\n",
    "    UPDATE emails\n",
    "    SET classified_category = NULL\n",
    "\"\"\")\n",
    "conn.commit()\n",
    "\n",
    "print(\"✅ All classified categories reset to NULL.\")"
   ]
  },
  {
   "cell_type": "code",
   "execution_count": 26,
   "id": "34be7a5d-9e0e-4c73-8488-31359ff9a778",
   "metadata": {},
   "outputs": [
    {
     "name": "stdout",
     "output_type": "stream",
     "text": [
      "📩 Email ID 1\n",
      "🧠 Predicted: Leave Request\n",
      "📈 Confidence: 0.98\n",
      "📩 Email ID 2\n",
      "🧠 Predicted: IT & Access Issues\n",
      "📈 Confidence: 0.67\n",
      "📩 Email ID 3\n",
      "🧠 Predicted: Benefits Inquiry\n",
      "📈 Confidence: 0.69\n",
      "📩 Email ID 7\n",
      "🧠 Predicted: Leave Request\n",
      "📈 Confidence: 0.81\n",
      "📩 Email ID 10\n",
      "🧠 Predicted: Benefits Inquiry\n",
      "📈 Confidence: 0.38\n",
      "📩 Email ID 11\n",
      "🧠 Predicted: Leave Request\n",
      "📈 Confidence: 0.81\n",
      "📩 Email ID 8\n",
      "🧠 Predicted: Leave Request\n",
      "📈 Confidence: 0.81\n",
      "📩 Email ID 4\n",
      "🧠 Predicted: Leave Request\n",
      "📈 Confidence: 0.98\n",
      "📩 Email ID 5\n",
      "🧠 Predicted: IT & Access Issues\n",
      "📈 Confidence: 0.67\n",
      "📩 Email ID 6\n",
      "🧠 Predicted: Benefits Inquiry\n",
      "📈 Confidence: 0.69\n",
      "📩 Email ID 12\n",
      "🧠 Predicted: Leave Request\n",
      "📈 Confidence: 0.81\n",
      "✅ Reclassification complete with final 15 categories.\n"
     ]
    }
   ],
   "source": [
    "def fetch_unclassified_emails():\n",
    "    cursor.execute(\"\"\"\n",
    "        SELECT email_id, subject, body\n",
    "        FROM emails\n",
    "        WHERE classified_category IS NULL\n",
    "    \"\"\")\n",
    "    return cursor.fetchall()\n",
    "\n",
    "emails_to_classify = fetch_unclassified_emails()\n",
    "\n",
    "for email_id, subject, body in emails_to_classify:\n",
    "    email_text = f\"{subject}\\n\\n{body}\"\n",
    "    result = classifier(email_text, categories)\n",
    "    predicted_label = result[\"labels\"][0]\n",
    "    confidence = result[\"scores\"][0]\n",
    "\n",
    "    print(f\"📩 Email ID {email_id}\")\n",
    "    print(f\"🧠 Predicted: {predicted_label}\")\n",
    "    print(f\"📈 Confidence: {round(confidence, 2)}\")\n",
    "\n",
    "    # Update the classified category in DB\n",
    "    cursor.execute(\"\"\"\n",
    "        UPDATE emails\n",
    "        SET classified_category = %s\n",
    "        WHERE email_id = %s\n",
    "    \"\"\", (predicted_label, email_id))\n",
    "\n",
    "conn.commit()\n",
    "print(\"✅ Reclassification complete with final 15 categories.\")"
   ]
  },
  {
   "cell_type": "markdown",
   "id": "61bd3832-8870-4bf6-a73e-dd6a91503628",
   "metadata": {},
   "source": [
    "## **Better performing model** "
   ]
  },
  {
   "cell_type": "code",
   "execution_count": 35,
   "id": "87aad567-161c-4e9a-9680-82ebb1a73ed2",
   "metadata": {},
   "outputs": [
    {
     "name": "stderr",
     "output_type": "stream",
     "text": [
      "Device set to use cpu\n"
     ]
    }
   ],
   "source": [
    "from transformers import pipeline\n",
    "classifier = pipeline(\"zero-shot-classification\", model=\"facebook/bart-large-mnli\")"
   ]
  },
  {
   "cell_type": "code",
   "execution_count": 38,
   "id": "f610ced0-1f39-428d-9aae-6331d0fd3ad3",
   "metadata": {},
   "outputs": [
    {
     "name": "stdout",
     "output_type": "stream",
     "text": [
      "📩 Email ID 13\n",
      "🧠 Predicted: Payroll Inquiry\n",
      "📈 Confidence: 0.38\n",
      "📩 Email ID 14\n",
      "🧠 Predicted: Payroll Inquiry\n",
      "📈 Confidence: 0.35\n",
      "✅ All emails classified and updated using mapped descriptions.\n"
     ]
    }
   ],
   "source": [
    "# 📌 Label Map (Short → Descriptive)\n",
    "label_map = {\n",
    "    \"Leave Request\": \"Requests related to taking leave or vacation\",\n",
    "    \"Onboarding\": \"Questions about new hire onboarding or joining formalities\",\n",
    "    \"Job Offer\": \"Inquiries regarding job offers or employment contracts\",\n",
    "    \"Payroll Inquiry\": \"Questions related to salary, payslips, or payroll processing\",\n",
    "    \"Benefits Inquiry\": \"Questions about insurance, medical, or employee benefits\",\n",
    "    \"Resignation & Exit\": \"Emails about resignation, exit process, or final settlements\",\n",
    "    \"Attendance & Timesheet\": \"Issues about work hours, attendance or timesheets\",\n",
    "    \"Recruitment Process\": \"Questions about interview, screening or hiring stages\",\n",
    "    \"Policy Clarification\": \"Clarification about company policies or procedures\",\n",
    "    \"Training & Development\": \"Queries about training programs or skill development\",\n",
    "    \"Work From Home Requests\": \"Requests or updates regarding remote work\",\n",
    "    \"Relocation & Transfer\": \"Inquiries about internal transfers or relocation\",\n",
    "    \"Expense Reimbursement\": \"Questions about reimbursements or expense claims\",\n",
    "    \"IT & Access Issues\": \"Issues about system access, accounts, or technical problems\",\n",
    "    \"Events & Celebrations\": \"Emails about office events, parties, or celebrations\"\n",
    "}\n",
    "\n",
    "# 📌 Step 1: Extract Descriptive Prompts\n",
    "descriptive_labels = list(label_map.values())\n",
    "\n",
    "# 📌 Step 2: Fetch unclassified emails\n",
    "def fetch_unclassified_emails():\n",
    "    cursor.execute(\"\"\"\n",
    "        SELECT email_id, subject, body\n",
    "        FROM emails\n",
    "        WHERE classified_category IS NULL\n",
    "    \"\"\")\n",
    "    return cursor.fetchall()\n",
    "\n",
    "# 📌 Step 3: Classify and update\n",
    "emails_to_classify = fetch_unclassified_emails()\n",
    "\n",
    "for email_id, subject, body in emails_to_classify:\n",
    "    email_text = f\"{subject}\\n\\n{body}\"\n",
    "    \n",
    "    result = classifier(email_text, descriptive_labels)\n",
    "    predicted_description = result[\"labels\"][0]\n",
    "    confidence = result[\"scores\"][0]\n",
    "\n",
    "    # Map back to clean label\n",
    "    predicted_label = next(\n",
    "        key for key, value in label_map.items() if value == predicted_description\n",
    "    )\n",
    "\n",
    "    print(f\"📩 Email ID {email_id}\")\n",
    "    print(f\"🧠 Predicted: {predicted_label}\")\n",
    "    print(f\"📈 Confidence: {round(confidence, 2)}\")\n",
    "\n",
    "    # Update in DB\n",
    "    cursor.execute(\"\"\"\n",
    "        UPDATE emails\n",
    "        SET classified_category = %s\n",
    "        WHERE email_id = %s\n",
    "    \"\"\", (predicted_label, email_id))\n",
    "\n",
    "conn.commit()\n",
    "print(\"✅ All emails classified and updated using mapped descriptions.\")"
   ]
  },
  {
   "cell_type": "code",
   "execution_count": null,
   "id": "48a0ba5d-5b8d-4fcc-8825-4be7a6f1a2e7",
   "metadata": {},
   "outputs": [],
   "source": [
    "# 🧠 Mapped labels: actual category => descriptive version (for the classifier)\n",
    "label_mapping = {\n",
    "    \"Leave Request\": \"An employee is requesting leave or time off.\",\n",
    "    \"Onboarding\": \"A query related to joining process, documents, or orientation.\",\n",
    "    \"Job Offer\": \"Discussion or questions about job offer details or status.\",\n",
    "    \"Salary/Payroll Inquiry\": \"Inquiries related to salary, payroll, or payment delays.\",\n",
    "    \"Benefits Inquiry\": \"Questions about employee benefits like insurance or perks.\",\n",
    "    \"Resignation & Exit\": \"Emails related to resigning, exit process, or final settlement.\",\n",
    "    \"Attendance & Timesheet\": \"Questions about logging attendance or timesheets.\",\n",
    "    \"Recruitment Process\": \"Inquiries related to job applications or interviews.\",\n",
    "    \"Policy Clarification\": \"Seeking clarification on company policies or HR rules.\",\n",
    "    \"Training & Development\": \"Asking about learning opportunities or employee training programs.\",\n",
    "    \"Work From Home Requests\": \"Request or questions related to working remotely or from home.\",\n",
    "    \"Relocation & Transfer\": \"Discussion about relocation or internal transfer requests.\",\n",
    "    \"Expense Reimbursement\": \"Questions about expense claims or reimbursement process.\",\n",
    "    \"IT & Access Issues\": \"Problems accessing systems, tools, or login credentials.\",\n",
    "    \"Events & Celebrations\": \"Emails about office events, celebrations, or social gatherings.\"\n",
    "}\n",
    "\n",
    "# 🧪 Descriptive labels list for classifier input\n",
    "candidate_labels = list(label_mapping.values())\n"
   ]
  },
  {
   "cell_type": "code",
   "execution_count": 40,
   "id": "88f79c4a-b311-4eea-b026-a4c9dd9bd4ae",
   "metadata": {},
   "outputs": [
    {
     "name": "stderr",
     "output_type": "stream",
     "text": [
      "Device set to use cpu\n"
     ]
    },
    {
     "name": "stdout",
     "output_type": "stream",
     "text": [
      "📩 Email ID 11\n",
      "🧠 Predicted: Leave Request\n",
      "📈 Confidence: 0.83\n",
      "\n",
      "📩 Email ID 8\n",
      "🧠 Predicted: Leave Request\n",
      "📈 Confidence: 0.83\n",
      "\n",
      "📩 Email ID 4\n",
      "🧠 Predicted: Leave Request\n",
      "📈 Confidence: 0.84\n",
      "\n",
      "📩 Email ID 5\n",
      "🧠 Predicted: IT & Access Issues\n",
      "📈 Confidence: 0.27\n",
      "\n",
      "📩 Email ID 1\n",
      "🧠 Predicted: Leave Request\n",
      "📈 Confidence: 0.84\n",
      "\n",
      "📩 Email ID 2\n",
      "🧠 Predicted: IT & Access Issues\n",
      "📈 Confidence: 0.27\n",
      "\n",
      "📩 Email ID 3\n",
      "🧠 Predicted: Job Offer\n",
      "📈 Confidence: 0.41\n",
      "\n",
      "📩 Email ID 7\n",
      "🧠 Predicted: Leave Request\n",
      "📈 Confidence: 0.83\n",
      "\n",
      "📩 Email ID 10\n",
      "🧠 Predicted: Work From Home Requests\n",
      "📈 Confidence: 0.2\n",
      "\n",
      "📩 Email ID 6\n",
      "🧠 Predicted: Job Offer\n",
      "📈 Confidence: 0.41\n",
      "\n",
      "📩 Email ID 12\n",
      "🧠 Predicted: Leave Request\n",
      "📈 Confidence: 0.83\n",
      "\n",
      "📩 Email ID 13\n",
      "🧠 Predicted: Policy Clarification\n",
      "📈 Confidence: 0.33\n",
      "\n",
      "📩 Email ID 14\n",
      "🧠 Predicted: Salary/Payroll Inquiry\n",
      "📈 Confidence: 0.4\n",
      "\n",
      "✅ Classification complete with descriptive labels.\n"
     ]
    }
   ],
   "source": [
    "from transformers import pipeline\n",
    "\n",
    "# 1. Descriptive label mapping\n",
    "label_mapping = {\n",
    "    \"Leave Request\": \"An employee is requesting leave or time off.\",\n",
    "    \"Onboarding\": \"A query related to joining process, documents, or orientation.\",\n",
    "    \"Job Offer\": \"Discussion or questions about job offer details or status.\",\n",
    "    \"Salary/Payroll Inquiry\": \"Inquiries related to salary, payroll, or payment delays.\",\n",
    "    \"Benefits Inquiry\": \"Questions about employee benefits like insurance or perks.\",\n",
    "    \"Resignation & Exit\": \"Emails related to resigning, exit process, or final settlement.\",\n",
    "    \"Attendance & Timesheet\": \"Questions about logging attendance or timesheets.\",\n",
    "    \"Recruitment Process\": \"Inquiries related to job applications or interviews.\",\n",
    "    \"Policy Clarification\": \"Seeking clarification on company policies or HR rules.\",\n",
    "    \"Training & Development\": \"Asking about learning opportunities or employee training programs.\",\n",
    "    \"Work From Home Requests\": \"Request or questions related to working remotely or from home.\",\n",
    "    \"Relocation & Transfer\": \"Discussion about relocation or internal transfer requests.\",\n",
    "    \"Expense Reimbursement\": \"Questions about expense claims or reimbursement process.\",\n",
    "    \"IT & Access Issues\": \"Problems accessing systems, tools, or login credentials.\",\n",
    "    \"Events & Celebrations\": \"Emails about office events, celebrations, or social gatherings.\"\n",
    "}\n",
    "candidate_labels = list(label_mapping.values())\n",
    "\n",
    "# 2. Initialize classifier\n",
    "classifier = pipeline(\n",
    "    \"zero-shot-classification\",\n",
    "    model=\"facebook/bart-large-mnli\",\n",
    "    device=-1  # Use -1 for CPU, or 0 for GPU\n",
    ")\n",
    "\n",
    "# 3. Function to fetch unclassified emails\n",
    "def fetch_unclassified_emails():\n",
    "    query = \"\"\"\n",
    "        SELECT email_id, subject, body\n",
    "        FROM emails\n",
    "        WHERE classified_category IS NULL\n",
    "    \"\"\"\n",
    "    cursor.execute(query)\n",
    "    return cursor.fetchall()\n",
    "\n",
    "# 4. Classify emails and update DB\n",
    "emails_to_classify = fetch_unclassified_emails()\n",
    "\n",
    "for email_id, subject, body in emails_to_classify:\n",
    "    email_text = f\"{subject}\\n\\n{body}\"\n",
    "    result = classifier(email_text, candidate_labels, multi_label=False)\n",
    "    predicted_desc = result['labels'][0]\n",
    "    confidence = result['scores'][0]\n",
    "\n",
    "    # Reverse lookup\n",
    "    predicted_label = next(\n",
    "        key for key, value in label_mapping.items() if value == predicted_desc\n",
    "    )\n",
    "\n",
    "    # Update email record\n",
    "    cursor.execute(\"\"\"\n",
    "        UPDATE emails\n",
    "        SET classified_category = %s\n",
    "        WHERE email_id = %s\n",
    "    \"\"\", (predicted_label, email_id))\n",
    "    conn.commit()\n",
    "\n",
    "    print(f\"📩 Email ID {email_id}\")\n",
    "    print(f\"🧠 Predicted: {predicted_label}\")\n",
    "    print(f\"📈 Confidence: {round(confidence, 2)}\\n\")\n",
    "\n",
    "print(\"✅ Classification complete with descriptive labels.\")"
   ]
  }
 ],
 "metadata": {
  "kernelspec": {
   "display_name": "Python 3 (ipykernel)",
   "language": "python",
   "name": "python3"
  },
  "language_info": {
   "codemirror_mode": {
    "name": "ipython",
    "version": 3
   },
   "file_extension": ".py",
   "mimetype": "text/x-python",
   "name": "python",
   "nbconvert_exporter": "python",
   "pygments_lexer": "ipython3",
   "version": "3.12.4"
  }
 },
 "nbformat": 4,
 "nbformat_minor": 5
}
