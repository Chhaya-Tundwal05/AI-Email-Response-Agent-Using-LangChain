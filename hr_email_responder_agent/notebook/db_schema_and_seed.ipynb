{
 "cells": [
  {
   "cell_type": "markdown",
   "id": "420626dd-94a2-4879-b894-ef0aed654716",
   "metadata": {},
   "source": [
    "# 1. Creating Database"
   ]
  },
  {
   "cell_type": "code",
   "execution_count": 13,
   "id": "d6f5bf0e-9697-4e73-89ee-d5c1ff1391f0",
   "metadata": {
    "scrolled": true
   },
   "outputs": [
    {
     "name": "stdout",
     "output_type": "stream",
     "text": [
      "Requirement already satisfied: psycopg2-binary in c:\\users\\chand\\anaconda3\\lib\\site-packages (2.9.10)\n",
      "Requirement already satisfied: pandas in c:\\users\\chand\\anaconda3\\lib\\site-packages (2.2.2)\n",
      "Requirement already satisfied: numpy>=1.26.0 in c:\\users\\chand\\anaconda3\\lib\\site-packages (from pandas) (1.26.4)\n",
      "Requirement already satisfied: python-dateutil>=2.8.2 in c:\\users\\chand\\anaconda3\\lib\\site-packages (from pandas) (2.9.0.post0)\n",
      "Requirement already satisfied: pytz>=2020.1 in c:\\users\\chand\\anaconda3\\lib\\site-packages (from pandas) (2024.1)\n",
      "Requirement already satisfied: tzdata>=2022.7 in c:\\users\\chand\\anaconda3\\lib\\site-packages (from pandas) (2023.3)\n",
      "Requirement already satisfied: six>=1.5 in c:\\users\\chand\\anaconda3\\lib\\site-packages (from python-dateutil>=2.8.2->pandas) (1.16.0)\n",
      "Collecting pg8000\n",
      "  Downloading pg8000-1.31.2-py3-none-any.whl.metadata (74 kB)\n",
      "Collecting cloud-sql-python-connector\n",
      "  Downloading cloud_sql_python_connector-1.18.0-py3-none-any.whl.metadata (32 kB)\n",
      "Requirement already satisfied: python-dateutil>=2.8.2 in c:\\users\\chand\\anaconda3\\lib\\site-packages (from pg8000) (2.9.0.post0)\n",
      "Collecting scramp>=1.4.5 (from pg8000)\n",
      "  Downloading scramp-1.4.5-py3-none-any.whl.metadata (19 kB)\n",
      "Collecting aiofiles (from cloud-sql-python-connector)\n",
      "  Downloading aiofiles-24.1.0-py3-none-any.whl.metadata (10 kB)\n",
      "Requirement already satisfied: aiohttp in c:\\users\\chand\\anaconda3\\lib\\site-packages (from cloud-sql-python-connector) (3.10.5)\n",
      "Requirement already satisfied: cryptography>=42.0.0 in c:\\users\\chand\\anaconda3\\lib\\site-packages (from cloud-sql-python-connector) (43.0.0)\n",
      "Collecting dnspython>=2.0.0 (from cloud-sql-python-connector)\n",
      "  Downloading dnspython-2.7.0-py3-none-any.whl.metadata (5.8 kB)\n",
      "Requirement already satisfied: Requests in c:\\users\\chand\\anaconda3\\lib\\site-packages (from cloud-sql-python-connector) (2.32.3)\n",
      "Collecting google-auth>=2.28.0 (from cloud-sql-python-connector)\n",
      "  Downloading google_auth-2.38.0-py2.py3-none-any.whl.metadata (4.8 kB)\n",
      "Requirement already satisfied: cffi>=1.12 in c:\\users\\chand\\anaconda3\\lib\\site-packages (from cryptography>=42.0.0->cloud-sql-python-connector) (1.17.1)\n",
      "Requirement already satisfied: cachetools<6.0,>=2.0.0 in c:\\users\\chand\\anaconda3\\lib\\site-packages (from google-auth>=2.28.0->cloud-sql-python-connector) (5.3.3)\n",
      "Requirement already satisfied: pyasn1-modules>=0.2.1 in c:\\users\\chand\\anaconda3\\lib\\site-packages (from google-auth>=2.28.0->cloud-sql-python-connector) (0.2.8)\n",
      "Collecting rsa<5,>=3.1.4 (from google-auth>=2.28.0->cloud-sql-python-connector)\n",
      "  Downloading rsa-4.9-py3-none-any.whl.metadata (4.2 kB)\n",
      "Requirement already satisfied: six>=1.5 in c:\\users\\chand\\anaconda3\\lib\\site-packages (from python-dateutil>=2.8.2->pg8000) (1.16.0)\n",
      "Collecting asn1crypto>=1.5.1 (from scramp>=1.4.5->pg8000)\n",
      "  Downloading asn1crypto-1.5.1-py2.py3-none-any.whl.metadata (13 kB)\n",
      "Requirement already satisfied: aiohappyeyeballs>=2.3.0 in c:\\users\\chand\\anaconda3\\lib\\site-packages (from aiohttp->cloud-sql-python-connector) (2.4.0)\n",
      "Requirement already satisfied: aiosignal>=1.1.2 in c:\\users\\chand\\anaconda3\\lib\\site-packages (from aiohttp->cloud-sql-python-connector) (1.2.0)\n",
      "Requirement already satisfied: attrs>=17.3.0 in c:\\users\\chand\\anaconda3\\lib\\site-packages (from aiohttp->cloud-sql-python-connector) (23.1.0)\n",
      "Requirement already satisfied: frozenlist>=1.1.1 in c:\\users\\chand\\anaconda3\\lib\\site-packages (from aiohttp->cloud-sql-python-connector) (1.4.0)\n",
      "Requirement already satisfied: multidict<7.0,>=4.5 in c:\\users\\chand\\anaconda3\\lib\\site-packages (from aiohttp->cloud-sql-python-connector) (6.0.4)\n",
      "Requirement already satisfied: yarl<2.0,>=1.0 in c:\\users\\chand\\anaconda3\\lib\\site-packages (from aiohttp->cloud-sql-python-connector) (1.11.0)\n",
      "Requirement already satisfied: charset-normalizer<4,>=2 in c:\\users\\chand\\anaconda3\\lib\\site-packages (from Requests->cloud-sql-python-connector) (3.3.2)\n",
      "Requirement already satisfied: idna<4,>=2.5 in c:\\users\\chand\\anaconda3\\lib\\site-packages (from Requests->cloud-sql-python-connector) (3.7)\n",
      "Requirement already satisfied: urllib3<3,>=1.21.1 in c:\\users\\chand\\anaconda3\\lib\\site-packages (from Requests->cloud-sql-python-connector) (2.2.3)\n",
      "Requirement already satisfied: certifi>=2017.4.17 in c:\\users\\chand\\anaconda3\\lib\\site-packages (from Requests->cloud-sql-python-connector) (2024.8.30)\n",
      "Requirement already satisfied: pycparser in c:\\users\\chand\\anaconda3\\lib\\site-packages (from cffi>=1.12->cryptography>=42.0.0->cloud-sql-python-connector) (2.21)\n",
      "Requirement already satisfied: pyasn1<0.5.0,>=0.4.6 in c:\\users\\chand\\anaconda3\\lib\\site-packages (from pyasn1-modules>=0.2.1->google-auth>=2.28.0->cloud-sql-python-connector) (0.4.8)\n",
      "Downloading pg8000-1.31.2-py3-none-any.whl (54 kB)\n",
      "Downloading cloud_sql_python_connector-1.18.0-py3-none-any.whl (49 kB)\n",
      "Downloading dnspython-2.7.0-py3-none-any.whl (313 kB)\n",
      "Downloading google_auth-2.38.0-py2.py3-none-any.whl (210 kB)\n",
      "Downloading scramp-1.4.5-py3-none-any.whl (12 kB)\n",
      "Downloading aiofiles-24.1.0-py3-none-any.whl (15 kB)\n",
      "Downloading asn1crypto-1.5.1-py2.py3-none-any.whl (105 kB)\n",
      "Downloading rsa-4.9-py3-none-any.whl (34 kB)\n",
      "Installing collected packages: asn1crypto, scramp, rsa, dnspython, aiofiles, pg8000, google-auth, cloud-sql-python-connector\n",
      "Successfully installed aiofiles-24.1.0 asn1crypto-1.5.1 cloud-sql-python-connector-1.18.0 dnspython-2.7.0 google-auth-2.38.0 pg8000-1.31.2 rsa-4.9 scramp-1.4.5\n"
     ]
    }
   ],
   "source": [
    "# 📌 Step 1: Install Dependencies\n",
    "!pip install psycopg2-binary pandas\n",
    "!pip install pg8000 cloud-sql-python-connector\n",
    "\n"
   ]
  },
  {
   "cell_type": "code",
   "execution_count": 1,
   "id": "5d1751da-abe1-4fd9-9c93-daa0bdc59d45",
   "metadata": {},
   "outputs": [],
   "source": [
    "# 📌 Step 2: Import Libraries\n",
    "import psycopg2\n",
    "import pandas as pd\n",
    "import os\n"
   ]
  },
  {
   "cell_type": "code",
   "execution_count": 2,
   "id": "cfe46048-a43b-470e-aae8-5876159bae14",
   "metadata": {},
   "outputs": [
    {
     "name": "stdout",
     "output_type": "stream",
     "text": [
      "✅ Connected to PostgreSQL Cloud SQL\n"
     ]
    }
   ],
   "source": [
    "# 📌 Step 3: Set Up Database Connection (Replace with Your Details)\n",
    "DATABASE_URL = \"dbname='postgres' user='postgres' host='34.59.119.208' password='avantichhaya'\"\n",
    "\n",
    "def connect_db():\n",
    "    try:\n",
    "        conn = psycopg2.connect(DATABASE_URL)\n",
    "        print(\"✅ Connected to PostgreSQL Cloud SQL\")\n",
    "        return conn\n",
    "    except Exception as e:\n",
    "        print(\"🚨 Connection Error:\", e)\n",
    "        return None\n",
    "\n",
    "conn = connect_db()\n",
    "cursor = conn.cursor()\n"
   ]
  },
  {
   "cell_type": "code",
   "execution_count": 19,
   "id": "c1058dbf-80fd-4e4a-9cd3-ced27ec86922",
   "metadata": {},
   "outputs": [
    {
     "name": "stdout",
     "output_type": "stream",
     "text": [
      "✅ Tables Created Successfully\n"
     ]
    }
   ],
   "source": [
    "# 📌 Step 4: Create Tables (If Not Exists)\n",
    "create_tables_query = \"\"\"\n",
    "CREATE TABLE IF NOT EXISTS emails (\n",
    "    email_id SERIAL PRIMARY KEY,\n",
    "    sender_email VARCHAR(255) NOT NULL,\n",
    "    subject TEXT NOT NULL,\n",
    "    body TEXT NOT NULL,\n",
    "    received_at TIMESTAMP DEFAULT CURRENT_TIMESTAMP,\n",
    "    classified_category VARCHAR(100),\n",
    "    status VARCHAR(50) DEFAULT 'pending'\n",
    ");\n",
    "\n",
    "CREATE TABLE IF NOT EXISTS classification_rules (\n",
    "    rule_id SERIAL PRIMARY KEY,\n",
    "    category VARCHAR(100) NOT NULL,\n",
    "    keywords TEXT[] NOT NULL,\n",
    "    created_at TIMESTAMP DEFAULT CURRENT_TIMESTAMP\n",
    ");\n",
    "\n",
    "CREATE TABLE IF NOT EXISTS responses (\n",
    "    response_id SERIAL PRIMARY KEY,\n",
    "    email_id INT REFERENCES emails(email_id) ON DELETE CASCADE,\n",
    "    response_text TEXT NOT NULL,\n",
    "    responded_at TIMESTAMP DEFAULT CURRENT_TIMESTAMP\n",
    ");\n",
    "\n",
    "CREATE TABLE IF NOT EXISTS escalations (\n",
    "    escalation_id SERIAL PRIMARY KEY,\n",
    "    email_id INT REFERENCES emails(email_id) ON DELETE CASCADE,\n",
    "    reason TEXT NOT NULL,\n",
    "    escalated_at TIMESTAMP DEFAULT CURRENT_TIMESTAMP,\n",
    "    resolved BOOLEAN DEFAULT FALSE\n",
    ");\n",
    "\"\"\"\n",
    "\n",
    "cursor.execute(create_tables_query)\n",
    "conn.commit()\n",
    "print(\"✅ Tables Created Successfully\")\n"
   ]
  },
  {
   "cell_type": "code",
   "execution_count": 20,
   "id": "1e7df397-b4c5-4b53-8b9d-728d47054e97",
   "metadata": {},
   "outputs": [
    {
     "name": "stdout",
     "output_type": "stream",
     "text": [
      "✅ Sample Data Inserted\n"
     ]
    }
   ],
   "source": [
    "# 📌 Step 5: Insert Sample Data\n",
    "insert_data_query = \"\"\"\n",
    "INSERT INTO emails (sender_email, subject, body, classified_category, status)\n",
    "VALUES \n",
    "('user1@example.com', 'Leave Request', 'I need leave for 2 days.', 'HR', 'pending'),\n",
    "('user2@example.com', 'Technical Issue', 'My laptop is not working.', 'IT', 'pending'),\n",
    "('user3@example.com', 'Salary Inquiry', 'When will I receive my salary?', 'Finance', 'pending')\n",
    "RETURNING email_id;\n",
    "\"\"\"\n",
    "\n",
    "cursor.execute(insert_data_query)\n",
    "conn.commit()\n",
    "print(\"✅ Sample Data Inserted\")\n"
   ]
  },
  {
   "cell_type": "code",
   "execution_count": 41,
   "id": "0b407c57-a25c-47d1-92c5-ab2d569bea1e",
   "metadata": {},
   "outputs": [
    {
     "name": "stdout",
     "output_type": "stream",
     "text": [
      "✅ Sample Data Inserted\n"
     ]
    }
   ],
   "source": [
    "# 📌 Step 5: Insert Sample Data\n",
    "insert_data_query = \"\"\"\n",
    "INSERT INTO emails (sender_email, subject, body, classified_category, status)\n",
    "VALUES \n",
    "('user4@example.com', 'Leave Request', 'I need leave for 2 days.', 'aa', 'pending'),\n",
    "('user5@example.com', 'Technical Issue', 'My laptop is not working.', 'aa', 'pending'),\n",
    "('user6@example.com', 'Salary Inquiry', 'When will I receive my salary?', 'aa', 'pending')\n",
    "RETURNING email_id;\n",
    "\"\"\"\n",
    "\n",
    "cursor.execute(insert_data_query)\n",
    "conn.commit()\n",
    "print(\"✅ Sample Data Inserted\")"
   ]
  },
  {
   "cell_type": "code",
   "execution_count": 12,
   "id": "41dce70a-f287-437b-8125-50e657e906af",
   "metadata": {},
   "outputs": [
    {
     "ename": "InFailedSqlTransaction",
     "evalue": "current transaction is aborted, commands ignored until end of transaction block\n",
     "output_type": "error",
     "traceback": [
      "\u001b[1;31m---------------------------------------------------------------------------\u001b[0m",
      "\u001b[1;31mInFailedSqlTransaction\u001b[0m                    Traceback (most recent call last)",
      "Cell \u001b[1;32mIn[12], line 9\u001b[0m\n\u001b[0;32m      1\u001b[0m \u001b[38;5;66;03m# 📌 Step 5: Insert Sample Data\u001b[39;00m\n\u001b[0;32m      2\u001b[0m insert_data_query \u001b[38;5;241m=\u001b[39m \u001b[38;5;124m\"\"\"\u001b[39m\n\u001b[0;32m      3\u001b[0m \u001b[38;5;124mINSERT INTO emails (sender_email, subject, body, classified_category, status)\u001b[39m\n\u001b[0;32m      4\u001b[0m \u001b[38;5;124mVALUES \u001b[39m\n\u001b[0;32m      5\u001b[0m \u001b[38;5;124m(\u001b[39m\u001b[38;5;124m'\u001b[39m\u001b[38;5;124mavanti.com\u001b[39m\u001b[38;5;124m'\u001b[39m\u001b[38;5;124m, \u001b[39m\u001b[38;5;124m'\u001b[39m\u001b[38;5;124mhelp needed\u001b[39m\u001b[38;5;124m'\u001b[39m\u001b[38;5;124m, \u001b[39m\u001b[38;5;124m'\u001b[39m\u001b[38;5;124mhow does this work? Help me\u001b[39m\u001b[38;5;124m'\u001b[39m\u001b[38;5;124m, \u001b[39m\u001b[38;5;124m'\u001b[39m\u001b[38;5;124m'\u001b[39m\u001b[38;5;124m, \u001b[39m\u001b[38;5;124m'\u001b[39m\u001b[38;5;124mpending\u001b[39m\u001b[38;5;124m'\u001b[39m\u001b[38;5;124m)\u001b[39m\n\u001b[0;32m      6\u001b[0m \u001b[38;5;124mRETURNING email_id;\u001b[39m\n\u001b[0;32m      7\u001b[0m \u001b[38;5;124m\"\"\"\u001b[39m\n\u001b[1;32m----> 9\u001b[0m cursor\u001b[38;5;241m.\u001b[39mexecute(insert_data_query)\n\u001b[0;32m     10\u001b[0m conn\u001b[38;5;241m.\u001b[39mcommit()\n\u001b[0;32m     11\u001b[0m \u001b[38;5;28mprint\u001b[39m(\u001b[38;5;124m\"\u001b[39m\u001b[38;5;124m✅ Sample Data Inserted\u001b[39m\u001b[38;5;124m\"\u001b[39m)\n",
      "\u001b[1;31mInFailedSqlTransaction\u001b[0m: current transaction is aborted, commands ignored until end of transaction block\n"
     ]
    }
   ],
   "source": [
    "# 📌 Step 5: Insert Sample Data\n",
    "insert_data_query = \"\"\"\n",
    "INSERT INTO emails (sender_email, subject, body, classified_category, status)\n",
    "VALUES \n",
    "('avanti.com', 'help needed', 'how does this work? Help me', '', 'pending')\n",
    "RETURNING email_id;\n",
    "\"\"\"\n",
    "\n",
    "cursor.execute(insert_data_query)\n",
    "conn.commit()\n",
    "print(\"✅ Sample Data Inserted\")"
   ]
  },
  {
   "cell_type": "code",
   "execution_count": 6,
   "id": "6bae2de7",
   "metadata": {},
   "outputs": [
    {
     "name": "stdout",
     "output_type": "stream",
     "text": [
      "✅ thread_id column added.\n"
     ]
    }
   ],
   "source": [
    "alter_query = \"\"\"\n",
    "ALTER TABLE emails\n",
    "ADD COLUMN thread_id INT;\n",
    "\"\"\"\n",
    "\n",
    "cursor.execute(alter_query)\n",
    "conn.commit()\n",
    "print(\"✅ thread_id column added.\")\n"
   ]
  },
  {
   "cell_type": "code",
   "execution_count": 3,
   "id": "73d8234e",
   "metadata": {},
   "outputs": [
    {
     "name": "stdout",
     "output_type": "stream",
     "text": [
      "✅ Added classification_confidence column to emails table.\n"
     ]
    }
   ],
   "source": [
    "alter_query =\"\"\"\n",
    "    ALTER TABLE emails\n",
    "    ADD COLUMN classification_confidence FLOAT;\n",
    "\"\"\"\n",
    "cursor.execute(alter_query)\n",
    "conn.commit()\n",
    "\n",
    "print(\"✅ Added classification_confidence column to emails table.\")\n"
   ]
  },
  {
   "cell_type": "code",
   "execution_count": null,
   "id": "a08a06da",
   "metadata": {},
   "outputs": [
    {
     "name": "stderr",
     "output_type": "stream",
     "text": [
      "C:\\Users\\chand\\AppData\\Local\\Temp\\ipykernel_66420\\28204962.py:2: UserWarning: pandas only supports SQLAlchemy connectable (engine/connection) or database string URI or sqlite3 DBAPI2 connection. Other DBAPI2 objects are not tested. Please consider using SQLAlchemy.\n",
      "  df = pd.read_sql(\"SELECT * FROM emails where escalated=True;\", conn)\n"
     ]
    }
   ],
   "source": [
    "# 📌 Step 6: Retrieve Data as DataFrame\n",
    "df = pd.read_sql(\"SELECT * FROM emails;\", conn)\n",
    "df\n"
   ]
  },
  {
   "cell_type": "code",
   "execution_count": null,
   "id": "81b2e2e0",
   "metadata": {},
   "outputs": [],
   "source": []
  }
 ],
 "metadata": {
  "kernelspec": {
   "display_name": "base",
   "language": "python",
   "name": "python3"
  },
  "language_info": {
   "codemirror_mode": {
    "name": "ipython",
    "version": 3
   },
   "file_extension": ".py",
   "mimetype": "text/x-python",
   "name": "python",
   "nbconvert_exporter": "python",
   "pygments_lexer": "ipython3",
   "version": "3.12.7"
  }
 },
 "nbformat": 4,
 "nbformat_minor": 5
}
