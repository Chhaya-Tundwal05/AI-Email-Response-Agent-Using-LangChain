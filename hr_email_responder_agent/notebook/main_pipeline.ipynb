{
 "cells": [
  {
   "cell_type": "code",
   "execution_count": 1,
   "id": "f7fd57e7-3e6f-4b5d-b049-1f7da401eaf2",
   "metadata": {},
   "outputs": [],
   "source": [
    "import sys\n",
    "sys.path.append(\"..\")"
   ]
  },
  {
   "cell_type": "code",
   "execution_count": 2,
   "id": "a7598a79-d5ee-4506-80f6-3cabc5f1a71e",
   "metadata": {},
   "outputs": [],
   "source": [
    "from escalation.escalator import Escalator"
   ]
  },
  {
   "cell_type": "code",
   "execution_count": 4,
   "id": "206f1f97-aa7e-4eff-9c17-43c68bfb0752",
   "metadata": {},
   "outputs": [
    {
     "name": "stdout",
     "output_type": "stream",
     "text": [
      "✅ Connected to PostgreSQL\n"
     ]
    }
   ],
   "source": [
    "import sys\n",
    "sys.path.append(\"..\")  # Move up one level to access the db/ folder\n",
    "\n",
    "from db.connection import DBConnection\n",
    "\n",
    "db = DBConnection(\n",
    "    dbname=\"postgres\",\n",
    "    user=\"postgres\",\n",
    "    host=\"34.59.119.208\",\n",
    "    password=\"avantichhaya\"\n",
    ")\n",
    "\n",
    "conn = db.connect()\n",
    "if conn:\n",
    "    cursor = conn.cursor()\n",
    "else:\n",
    "    print(\"🚫 DB connection failed. Cannot proceed.\")"
   ]
  },
  {
   "cell_type": "code",
   "execution_count": 5,
   "id": "3d10d84f-4290-4426-a175-93caadda8484",
   "metadata": {},
   "outputs": [
    {
     "name": "stdout",
     "output_type": "stream",
     "text": [
      "['Requests related to taking leave or vacation', 'Questions about new hire onboarding or joining formalities', 'Inquiries regarding job offers or employment contracts', 'Questions related to salary, pay, wages, or payroll processing', 'Questions about insurance, medical, or employee benefits', 'Emails about resignation, exit process, or final settlements', 'Issues about work hours, attendance or timesheets', 'Questions about interview, screening or hiring stages', 'Clarification about company policies or procedures', 'Queries about training programs or skill development', 'Requests or updates regarding remote work', 'Inquiries about internal transfers or relocation', 'Questions about reimbursements or expense claims', 'Issues about system access, accounts, or technical problems', 'Emails about office events, parties, or celebrations']\n"
     ]
    }
   ],
   "source": [
    "from utils.constants import label_mapping, candidate_labels\n",
    "\n",
    "print(candidate_labels)  # Just to test"
   ]
  },
  {
   "cell_type": "code",
   "execution_count": 6,
   "id": "8b97cb3c-5b39-47bf-a118-272187526cc3",
   "metadata": {},
   "outputs": [],
   "source": [
    "escalator = Escalator(cursor=cursor, conn=conn, threshold=0.5)"
   ]
  },
  {
   "cell_type": "code",
   "execution_count": 7,
   "id": "3efcbfad-060b-42c5-975c-febdd088dfa3",
   "metadata": {},
   "outputs": [
    {
     "name": "stderr",
     "output_type": "stream",
     "text": [
      "Device set to use cpu\n"
     ]
    },
    {
     "name": "stdout",
     "output_type": "stream",
     "text": [
      "✅ Classification + escalation complete.\n"
     ]
    }
   ],
   "source": [
    "from classifier.email_classifier import classify_email\n",
    "from utils.constants import label_mapping\n",
    "\n",
    "from classifier.email_classifier import classify_email\n",
    "\n",
    "# Fetch unclassified emails\n",
    "def fetch_unclassified_emails():\n",
    "    cursor.execute(\"\"\"\n",
    "        SELECT email_id, subject, body\n",
    "        FROM emails\n",
    "        WHERE classified_category IS NULL\n",
    "    \"\"\")\n",
    "    return cursor.fetchall()\n",
    "\n",
    "emails_to_classify = fetch_unclassified_emails()\n",
    "\n",
    "for email_id, subject, body in emails_to_classify:\n",
    "    predicted_label, confidence = classify_email(subject, body)\n",
    "\n",
    "    if escalator.should_escalate(confidence):\n",
    "        reason = f\"Confidence below threshold: {confidence:.2f}\"\n",
    "        escalator.escalate(email_id, reason)\n",
    "    else:\n",
    "        cursor.execute(\"\"\"\n",
    "            UPDATE emails\n",
    "            SET classified_category = %s\n",
    "            WHERE email_id = %s\n",
    "        \"\"\", (predicted_label, email_id))\n",
    "        conn.commit()\n",
    "\n",
    "    print(f\"📩 Email ID {email_id}\")\n",
    "    print(f\"🧠 Predicted: {predicted_label}\")\n",
    "    print(f\"📈 Confidence: {round(confidence, 2)}\\n\")\n",
    "\n",
    "print(\"✅ Classification + escalation complete.\")"
   ]
  },
  {
   "cell_type": "code",
   "execution_count": null,
   "id": "144a0c8c-3049-49e6-88b3-e4301f2af665",
   "metadata": {},
   "outputs": [],
   "source": []
  }
 ],
 "metadata": {
  "kernelspec": {
   "display_name": "Python 3 (ipykernel)",
   "language": "python",
   "name": "python3"
  },
  "language_info": {
   "codemirror_mode": {
    "name": "ipython",
    "version": 3
   },
   "file_extension": ".py",
   "mimetype": "text/x-python",
   "name": "python",
   "nbconvert_exporter": "python",
   "pygments_lexer": "ipython3",
   "version": "3.12.4"
  }
 },
 "nbformat": 4,
 "nbformat_minor": 5
}
